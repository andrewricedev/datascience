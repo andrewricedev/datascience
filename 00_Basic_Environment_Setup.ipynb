{
 "cells": [
  {
   "cell_type": "markdown",
   "metadata": {},
   "source": [
    "# Setting up your data science environment"
   ]
  },
  {
   "cell_type": "markdown",
   "metadata": {},
   "source": [
    "Anaconda is a bit of a pain to set up initially, and with recent upgrades it makes it hard to find answers to some issues. So, to streamline this a bit, we're going to use miniconda, which is gives us a python install to use as well as the conda command for package and environment management. Unlike the full Anaconda, it does not come preloaded with packages and instead lets you choose which you need via the `conda install` command."
   ]
  },
  {
   "cell_type": "markdown",
   "metadata": {},
   "source": [
    "### Brief Aside \n",
    "**Q: Why use Anaconda in the first place? Why not just use pip and virtualenv?**\n",
    "A: Think of conda as a curated list of packages, with specific focus on the scientific computing community. When you install a package via `conda install`, instead of just installing the package (and dependencies), it will also install optimizations. Simply put, pandas installed via conda **will** run better than using pip. Do note, however, you can still use pip to install within a conda environment, and depending on the package may sometimes have to, usually for smaller modules."
   ]
  },
  {
   "cell_type": "markdown",
   "metadata": {},
   "source": [
    "### Setup Instructions"
   ]
  },
  {
   "cell_type": "markdown",
   "metadata": {},
   "source": [
    "1. Install Miniconda to use the conda package manager. [Link here](https://docs.conda.io/en/latest/miniconda.html)\n",
    "2. Create new environment using conda"
   ]
  },
  {
   "cell_type": "markdown",
   "metadata": {},
   "source": [
    "`conda create --name <env name> python=<version>`\n",
    "*version will be in number, such as 3.7"
   ]
  },
  {
   "cell_type": "markdown",
   "metadata": {},
   "source": [
    "3. Activate environment"
   ]
  },
  {
   "cell_type": "markdown",
   "metadata": {},
   "source": [
    "`conda activate <env name>`"
   ]
  },
  {
   "cell_type": "markdown",
   "metadata": {},
   "source": [
    "4. Install packages\n",
    "Ex:"
   ]
  },
  {
   "cell_type": "markdown",
   "metadata": {},
   "source": [
    "`conda install pandas numpy`"
   ]
  },
  {
   "cell_type": "markdown",
   "metadata": {},
   "source": [
    "5. Export envionment settings to environment.yml to be able to reinstall the environment from the file"
   ]
  },
  {
   "cell_type": "markdown",
   "metadata": {},
   "source": [
    "`conda env export > environment.yml`"
   ]
  },
  {
   "cell_type": "markdown",
   "metadata": {},
   "source": [
    "6. Start coding and/or open a jupyter notebook server with"
   ]
  },
  {
   "cell_type": "markdown",
   "metadata": {},
   "source": [
    "`jupyter notebook`"
   ]
  },
  {
   "cell_type": "markdown",
   "metadata": {},
   "source": [
    "**Note: You may need to conda install jupyter if you get a command not found error. On some systems this is necessary and on some it is not.**"
   ]
  },
  {
   "cell_type": "markdown",
   "metadata": {},
   "source": [
    "###  Optional but not really\n",
    "\n",
    "The notebook has no basic spellchecker, so you'll have to run the following:"
   ]
  },
  {
   "cell_type": "markdown",
   "metadata": {},
   "source": [
    "`pip install jupyter_contrib_nbextensions\n",
    "jupyter contrib nbextension install --user\n",
    "jupyter nbextension enable spellchecker/main`"
   ]
  },
  {
   "cell_type": "markdown",
   "metadata": {},
   "source": [
    "This can be done inside your environment or outside (globally). If you have jupyter running already, then restart it."
   ]
  },
  {
   "cell_type": "markdown",
   "metadata": {},
   "source": [
    "###  Optional but not really Pt. 2"
   ]
  },
  {
   "cell_type": "markdown",
   "metadata": {},
   "source": [
    "Managing environments from within a notebook isn't easy by default. It used to come with the capability, but now it is a separate extension. So, to get this functionality, simply run the following in your environment:"
   ]
  },
  {
   "cell_type": "markdown",
   "metadata": {},
   "source": [
    "`conda install nb_conda`"
   ]
  },
  {
   "cell_type": "markdown",
   "metadata": {},
   "source": [
    "Now in your notebook you will have a new tab on the home screen called _Conda_. You can use this to manage your environment easily."
   ]
  }
 ],
 "metadata": {
  "kernelspec": {
   "display_name": "Python 3",
   "language": "python",
   "name": "python3"
  },
  "language_info": {
   "codemirror_mode": {
    "name": "ipython",
    "version": 3
   },
   "file_extension": ".py",
   "mimetype": "text/x-python",
   "name": "python",
   "nbconvert_exporter": "python",
   "pygments_lexer": "ipython3",
   "version": "3.7.3"
  }
 },
 "nbformat": 4,
 "nbformat_minor": 2
}
