{
 "cells": [
  {
   "cell_type": "markdown",
   "metadata": {},
   "source": [
    "# A Jupyter notebook is a modal editor"
   ]
  },
  {
   "cell_type": "markdown",
   "metadata": {},
   "source": [
    "This means it is like vim in that there are different modes. There are less than vim, but there still exists arguably the two most important:\n",
    "1. **Command Mode**\n",
    "2. **Edit Mode**\n",
    "\n",
    "Similar to vim, you enter **Command Mode** via **Esc**. Unlike vim, **Edit Mode** is entered via **Enter**."
   ]
  },
  {
   "cell_type": "markdown",
   "metadata": {},
   "source": [
    "## The most important shortcut\n",
    "\n",
    "While in **Command Mode**, pressing **h** will show a list of all commands."
   ]
  },
  {
   "cell_type": "markdown",
   "metadata": {},
   "source": [
    "## The most useful shortcuts\n",
    "\n",
    "### Movement\n",
    "\n",
    "From **Command Mode** use either **k/j** or the Up Arrow/Down Arrow for moving up and down through the cells respectively."
   ]
  },
  {
   "cell_type": "markdown",
   "metadata": {},
   "source": [
    "As you type, you can use **Shift+Enter** to run the current cell and move to a new one, meaning if you are editing code it will run the code, or if it is markdown you will exit edit mode and all your markup will be displayed properly."
   ]
  },
  {
   "cell_type": "markdown",
   "metadata": {},
   "source": [
    "### Command Mode Shortcuts "
   ]
  },
  {
   "cell_type": "markdown",
   "metadata": {},
   "source": [
    "You can switch between cell types with\n",
    "1. Code = **y**\n",
    "2. Markdown = **m**\n",
    "3. Raw = **r**"
   ]
  },
  {
   "cell_type": "markdown",
   "metadata": {},
   "source": [
    "Numbers 1-6 will change the cell to markdown and give you a 1-6 style heading to start with."
   ]
  },
  {
   "cell_type": "markdown",
   "metadata": {},
   "source": [
    "Use the following to do typical word processing tasks\n",
    "1. **c** Copy\n",
    "2. **v** Paste (or **Shift+V** to paste above)\n",
    "3. **x** Cut\n",
    "4. **z** Undo\n",
    "5. **a** Insert cell above\n",
    "6. **b** Insert cell below\n",
    "7. **dd** Delete cell"
   ]
  },
  {
   "cell_type": "markdown",
   "metadata": {},
   "source": [
    "### Other useful Command Mode Shortcuts"
   ]
  }
 ],
 "metadata": {
  "kernelspec": {
   "display_name": "Python 3",
   "language": "python",
   "name": "python3"
  },
  "language_info": {
   "codemirror_mode": {
    "name": "ipython",
    "version": 3
   },
   "file_extension": ".py",
   "mimetype": "text/x-python",
   "name": "python",
   "nbconvert_exporter": "python",
   "pygments_lexer": "ipython3",
   "version": "3.7.3"
  }
 },
 "nbformat": 4,
 "nbformat_minor": 2
}
