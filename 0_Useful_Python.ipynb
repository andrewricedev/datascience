{
 "cells": [
  {
   "cell_type": "markdown",
   "metadata": {},
   "source": [
    "# Useful Python\n",
    "\n",
    "Stuff one may not know without delving deeper into Python as a language, but is very useful, particularly for Data Science."
   ]
  },
  {
   "cell_type": "markdown",
   "metadata": {},
   "source": [
    "## defaultdict\n",
    "[View the docs](https://docs.python.org/3.7/library/collections.html#collections.defaultdict)"
   ]
  },
  {
   "cell_type": "code",
   "execution_count": 1,
   "metadata": {},
   "outputs": [
    {
     "ename": "KeyError",
     "evalue": "'some_key'",
     "output_type": "error",
     "traceback": [
      "\u001b[0;31m---------------------------------------------------------------------------\u001b[0m",
      "\u001b[0;31mKeyError\u001b[0m                                  Traceback (most recent call last)",
      "\u001b[0;32m<ipython-input-1-f880904c7c5b>\u001b[0m in \u001b[0;36m<module>\u001b[0;34m\u001b[0m\n\u001b[1;32m      1\u001b[0m \u001b[0mregular_dict\u001b[0m \u001b[0;34m=\u001b[0m \u001b[0;34m{\u001b[0m\u001b[0;34m}\u001b[0m\u001b[0;34m\u001b[0m\u001b[0;34m\u001b[0m\u001b[0m\n\u001b[0;32m----> 2\u001b[0;31m \u001b[0mregular_dict\u001b[0m\u001b[0;34m[\u001b[0m\u001b[0;34m\"some_key\"\u001b[0m\u001b[0;34m]\u001b[0m\u001b[0;34m\u001b[0m\u001b[0;34m\u001b[0m\u001b[0m\n\u001b[0m",
      "\u001b[0;31mKeyError\u001b[0m: 'some_key'"
     ]
    }
   ],
   "source": [
    "regular_dict = {}\n",
    "regular_dict[\"some_key\"]"
   ]
  },
  {
   "cell_type": "markdown",
   "metadata": {},
   "source": [
    "In a regular dictionary, this won't work. In a **defaultdict**, however, instead of throwing a KeyError, it will add the key with a value, depending on what zero-argument function you pass."
   ]
  },
  {
   "cell_type": "code",
   "execution_count": 2,
   "metadata": {},
   "outputs": [
    {
     "data": {
      "text/plain": [
       "0"
      ]
     },
     "execution_count": 2,
     "metadata": {},
     "output_type": "execute_result"
    }
   ],
   "source": [
    "from collections import defaultdict\n",
    "default_dict = defaultdict(int) # int here is the int() function\n",
    "default_dict['some_key']"
   ]
  },
  {
   "cell_type": "markdown",
   "metadata": {},
   "source": [
    "This way we don't get an error. Instead the key is created and it is filled with the default, in this case int, which will produce 0."
   ]
  },
  {
   "cell_type": "markdown",
   "metadata": {},
   "source": [
    "## Counter\n",
    "[View the docs](https://docs.python.org/3.7/library/collections.html#collections.Counter)"
   ]
  },
  {
   "cell_type": "markdown",
   "metadata": {},
   "source": [
    "Another useful part of the collections module. It will give you what is essentially a defaultdict with the key as the item in the list and the value as the amount that key occurs. "
   ]
  },
  {
   "cell_type": "code",
   "execution_count": 3,
   "metadata": {},
   "outputs": [
    {
     "name": "stdout",
     "output_type": "stream",
     "text": [
      "Counter({1: 3, 3: 3, 0: 2, 2: 2, 5: 2, 4: 1, 6: 1})\n"
     ]
    }
   ],
   "source": [
    "from collections import Counter\n",
    "c = Counter([0,1,2,1,3,4,3,3,6,2,1,0,5,5])\n",
    "print(c)"
   ]
  },
  {
   "cell_type": "markdown",
   "metadata": {},
   "source": [
    "Now you can do things like use Counter's **most_common** method"
   ]
  },
  {
   "cell_type": "code",
   "execution_count": 4,
   "metadata": {},
   "outputs": [
    {
     "data": {
      "text/plain": [
       "[(1, 3), (3, 3), (0, 2)]"
      ]
     },
     "execution_count": 4,
     "metadata": {},
     "output_type": "execute_result"
    }
   ],
   "source": [
    "c.most_common(3) # Get the top 3 most common"
   ]
  },
  {
   "cell_type": "markdown",
   "metadata": {},
   "source": [
    "**Note: There are 3 different elements from our list with a count of 2. most_common() returns them in an arbitrary order when this is the case. Notice how we got (0,2) but not (2,2) or (5,2)**"
   ]
  },
  {
   "cell_type": "markdown",
   "metadata": {},
   "source": [
    "## enumerate\n",
    "[View the docs](https://docs.python.org/3.7/library/functions.html?highlight=enumerate#enumerate)"
   ]
  },
  {
   "cell_type": "markdown",
   "metadata": {},
   "source": [
    "This is part of the standard library, but the docs don't do it justice. This function should not be forgotten when you loop over a list and need both the index of the item as well as the item itself. There are plenty of others ways to do this, of course, but this is the 'pythonic' way"
   ]
  },
  {
   "cell_type": "code",
   "execution_count": 7,
   "metadata": {},
   "outputs": [
    {
     "name": "stdout",
     "output_type": "stream",
     "text": [
      "Index:0 Letter:a\n",
      "Index:1 Letter:b\n",
      "Index:2 Letter:c\n",
      "Index:3 Letter:d\n",
      "Index:4 Letter:e\n",
      "Index:5 Letter:f\n"
     ]
    }
   ],
   "source": [
    "letters = ['a','b','c','d','e','f']\n",
    "for idx, letter in enumerate(letters):\n",
    "    print(f'Index:{idx} Letter:{letter}')"
   ]
  },
  {
   "cell_type": "markdown",
   "metadata": {},
   "source": [
    "## typing\n",
    "[View the docs](https://docs.python.org/3.7/library/typing.html?#module-typing)"
   ]
  },
  {
   "cell_type": "markdown",
   "metadata": {},
   "source": [
    "The typing module is fairly new to python (around v3.5) and _sort of_ adds static typing for python. It doesn't enforce it like typically static typed languages, but it will provide some clue to how to use functions."
   ]
  },
  {
   "cell_type": "code",
   "execution_count": 12,
   "metadata": {},
   "outputs": [],
   "source": [
    "# This is provided out of the box\n",
    "def add_together(x: int, y: int) -> int:\n",
    "    return x + y\n",
    "\n",
    "# This is a list, but a list of what? \n",
    "values = []\n",
    "\n",
    "# Now we know\n",
    "from typing import List\n",
    "typed_values: List[int] = []\n",
    "    \n",
    "# There is also an Optional option we can import from typing for situations like this\n",
    "from typing import Optional\n",
    "age: Optional[int] = None # So we specify it takes an int, but can also be None\n",
    "    \n",
    "# There is also Callable, which lets us specify first-order functions we are passing\n",
    "from typing import Callable\n",
    "# Just to demonstrate syntax, the [str, int] is what the function takes, and the str after comma is what it returns\n",
    "def twice(repeater: Callable[[str, int], str], s: str) -> str:\n",
    "    return repeater(s, 2)\n",
    "\n",
    "#Finally, types are just objects, so you can assign them to make it easier\n",
    "Number = int\n",
    "Numbers = List[Number]\n",
    "\n",
    "def total(xs: Numbers) -> Number:\n",
    "    return sum(xs)"
   ]
  }
 ],
 "metadata": {
  "kernelspec": {
   "display_name": "Python 3",
   "language": "python",
   "name": "python3"
  },
  "language_info": {
   "codemirror_mode": {
    "name": "ipython",
    "version": 3
   },
   "file_extension": ".py",
   "mimetype": "text/x-python",
   "name": "python",
   "nbconvert_exporter": "python",
   "pygments_lexer": "ipython3",
   "version": "3.7.3"
  }
 },
 "nbformat": 4,
 "nbformat_minor": 2
}
